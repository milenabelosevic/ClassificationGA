{
  "nbformat": 4,
  "nbformat_minor": 0,
  "metadata": {
    "colab": {
      "provenance": []
    },
    "kernelspec": {
      "name": "python3",
      "display_name": "Python 3"
    },
    "language_info": {
      "name": "python"
    }
  },
  "cells": [
    {
      "cell_type": "code",
      "execution_count": null,
      "metadata": {
        "id": "D8JnfcQS2Si8"
      },
      "outputs": [],
      "source": [
        "# Evaluation script for Hugging Face classifiers\n",
        "\n",
        "import pandas as pd\n",
        "import torch\n",
        "from transformers import AutoTokenizer, AutoModelForSequenceClassification\n",
        "from sklearn.metrics import classification_report, confusion_matrix\n",
        "\n",
        "\n",
        "MODEL_NAME = \"MB55/gbert-lora-final\"\n",
        "#To test other models, simply replace MODEL_NAME with any of the available models below:\n",
        "#MB55/rembert-qlora\n",
        "#MB55/LLaMleinclassifier\n",
        "#MB55/EuroLLM-Classifier-QLoRA\n",
        "#MB55/bueble-classifier\n",
        "#MB55/teuken7b-advance-classifier\n",
        "\n",
        "DATA_PATH = \"data/test_split.csv\"\n",
        "TEXT_COLUMN = \"input_text\"\n",
        "LABEL_COLUMN = \"label\"\n",
        "DEVICE = \"cuda\" if torch.cuda.is_available() else \"cpu\"\n",
        "\n",
        "\n",
        "tokenizer = AutoTokenizer.from_pretrained(MODEL_NAME)\n",
        "model = AutoModelForSequenceClassification.from_pretrained(MODEL_NAME).to(DEVICE)\n",
        "\n",
        "\n",
        "df = pd.read_csv(DATA_PATH)\n",
        "texts = df[TEXT_COLUMN].tolist()\n",
        "true_labels = df[LABEL_COLUMN].tolist()\n",
        "\n",
        "\n",
        "pred_labels = []\n",
        "for text in texts:\n",
        "    inputs = tokenizer(text, return_tensors=\"pt\", truncation=True, padding=True).to(DEVICE)\n",
        "    with torch.no_grad():\n",
        "        outputs = model(**inputs)\n",
        "    pred = outputs.logits.argmax(dim=-1).item()\n",
        "    pred_labels.append(pred)\n",
        "\n",
        "\n",
        "report_df = pd.DataFrame(classification_report(true_labels, pred_labels, output_dict=True)).transpose()\n",
        "confmat_df = pd.DataFrame(confusion_matrix(true_labels, pred_labels))\n",
        "\n",
        "report_df.to_csv(\"results/eval_report.csv\")\n",
        "confmat_df.to_csv(\"results/conf_matrix.csv\")\n",
        "\n",
        "\n"
      ]
    }
  ]
}